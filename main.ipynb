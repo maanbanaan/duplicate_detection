{
 "cells": [
  {
   "cell_type": "code",
   "execution_count": 82,
   "id": "4082e0ea",
   "metadata": {},
   "outputs": [],
   "source": [
    "import numpy as np\n",
    "import pandas as pd\n",
    "import json\n",
    "\n",
    "json_file_path = \"TVs-all-merged.json\"\n",
    "\n",
    "with open(json_file_path, 'r') as file:\n",
    "    data = json.load(file)"
   ]
  },
  {
   "cell_type": "code",
   "execution_count": 83,
   "id": "ef7e5ef8",
   "metadata": {},
   "outputs": [],
   "source": [
    "# Extract the list of entries for each model ID\n",
    "entries = [entry for model_id, entry_list in data.items() for entry in entry_list]\n",
    "\n",
    "# Create a DataFrame\n",
    "old_df = pd.DataFrame(entries)\n",
    "\n",
    "# Flatten the \"featuresMap\" dictionary into separate columns\n",
    "df_features = pd.json_normalize(old_df['featuresMap'])\n",
    "\n",
    "# Concatenate the original DataFrame with the flattened features\n",
    "df = pd.concat([old_df.drop('featuresMap', axis=1), df_features], axis=1)"
   ]
  },
  {
   "cell_type": "code",
   "execution_count": 84,
   "id": "918053f1",
   "metadata": {},
   "outputs": [
    {
     "data": {
      "text/plain": [
       "(1624, 355)"
      ]
     },
     "execution_count": 84,
     "metadata": {},
     "output_type": "execute_result"
    }
   ],
   "source": [
    "df.shape"
   ]
  },
  {
   "cell_type": "code",
   "execution_count": 85,
   "id": "752ac68b",
   "metadata": {},
   "outputs": [
    {
     "name": "stdout",
     "output_type": "stream",
     "text": [
      "total number of duplicate pairs: 399\n"
     ]
    }
   ],
   "source": [
    "import math\n",
    "# Finding true duplicates\n",
    "models = dict()\n",
    "for model in df.modelID:\n",
    "    if model in models:\n",
    "        models[model] += 1\n",
    "    else:\n",
    "        models[model] = 1\n",
    "\n",
    "# Number of items per model ID\n",
    "counts = np.array(list(models.values()))\n",
    "\n",
    "# Number of duplicate pairs\n",
    "dup_pairs = sum([math.comb(i, 2) for i in counts])\n",
    "print(f'total number of duplicate pairs: {dup_pairs}')"
   ]
  },
  {
   "cell_type": "code",
   "execution_count": 86,
   "id": "8d5cfc5a",
   "metadata": {},
   "outputs": [],
   "source": [
    "all_features = set()\n",
    "for features in old_df.featuresMap:\n",
    "    for feature in features: \n",
    "        all_features.add(feature)"
   ]
  },
  {
   "cell_type": "markdown",
   "id": "226265ad",
   "metadata": {},
   "source": [
    "## Cleaning"
   ]
  },
  {
   "cell_type": "code",
   "execution_count": 87,
   "id": "57b29918",
   "metadata": {},
   "outputs": [],
   "source": [
    "import re\n",
    "\n",
    "# Data cleaning\n",
    "def clean_title(title):\n",
    "    if not isinstance(title, str):\n",
    "        return title\n",
    "    res = title.lower()\n",
    "    hz_words = ['hertz', '-hz', '-hertz', ' hz', ' hertz']\n",
    "    inch_words = ['inches', '-inch', '-inches', ' inch', ' inches', '\"', ' \"']\n",
    "    for word in hz_words:\n",
    "        res = res.replace(word, 'hz')\n",
    "    for word in inch_words:\n",
    "        res = res.replace(word, 'inch')\n",
    "    res = res.replace(\" x \", \"x\")\n",
    "    return res\n",
    "\n",
    "\n",
    "\n",
    "def get_model_words(model_name):\n",
    "    pattern = r'\\b(?=\\w*[a-zA-Z])(?=\\w*[0-9])(?=\\w*[^\\s])\\w+\\b'\n",
    "    return re.findall(pattern, model_name)\n"
   ]
  },
  {
   "cell_type": "code",
   "execution_count": 88,
   "id": "75b34b81",
   "metadata": {},
   "outputs": [],
   "source": [
    "df['title'] = df['title'].apply(clean_title)\n",
    "df.iloc[:, 4:] = df.iloc[:, 4:].applymap(clean_title)"
   ]
  },
  {
   "cell_type": "code",
   "execution_count": 89,
   "id": "1a3866dc",
   "metadata": {},
   "outputs": [
    {
     "data": {
      "text/html": [
       "<div>\n",
       "<style scoped>\n",
       "    .dataframe tbody tr th:only-of-type {\n",
       "        vertical-align: middle;\n",
       "    }\n",
       "\n",
       "    .dataframe tbody tr th {\n",
       "        vertical-align: top;\n",
       "    }\n",
       "\n",
       "    .dataframe thead th {\n",
       "        text-align: right;\n",
       "    }\n",
       "</style>\n",
       "<table border=\"1\" class=\"dataframe\">\n",
       "  <thead>\n",
       "    <tr style=\"text-align: right;\">\n",
       "      <th></th>\n",
       "      <th>shop</th>\n",
       "      <th>url</th>\n",
       "      <th>modelID</th>\n",
       "      <th>title</th>\n",
       "      <th>Screen Size Class</th>\n",
       "      <th>DVI Inputs</th>\n",
       "      <th>ENERGY STAR Certified</th>\n",
       "      <th>Ethernet Port</th>\n",
       "      <th>Sleep Timer</th>\n",
       "      <th>Width</th>\n",
       "      <th>...</th>\n",
       "      <th>Interfaces/Ports:</th>\n",
       "      <th>Motor:</th>\n",
       "      <th>Capacity:</th>\n",
       "      <th>Player Mechanism:</th>\n",
       "      <th>Signal to Noise Ratio (SNR):</th>\n",
       "      <th>Humidity Range</th>\n",
       "      <th>Connectors</th>\n",
       "      <th>Diagonal Size</th>\n",
       "      <th>Combo Player</th>\n",
       "      <th>HDMI Connection</th>\n",
       "    </tr>\n",
       "  </thead>\n",
       "  <tbody>\n",
       "    <tr>\n",
       "      <th>0</th>\n",
       "      <td>bestbuy.com</td>\n",
       "      <td>http://www.bestbuy.com/site/Philips+-+4000+Ser...</td>\n",
       "      <td>29PFL4508/F7</td>\n",
       "      <td>philips 4000 series 29inch class 2812inch diag...</td>\n",
       "      <td>29inch</td>\n",
       "      <td>0</td>\n",
       "      <td>yes</td>\n",
       "      <td>no</td>\n",
       "      <td>yes</td>\n",
       "      <td>27inch</td>\n",
       "      <td>...</td>\n",
       "      <td>NaN</td>\n",
       "      <td>NaN</td>\n",
       "      <td>NaN</td>\n",
       "      <td>NaN</td>\n",
       "      <td>NaN</td>\n",
       "      <td>NaN</td>\n",
       "      <td>NaN</td>\n",
       "      <td>NaN</td>\n",
       "      <td>NaN</td>\n",
       "      <td>NaN</td>\n",
       "    </tr>\n",
       "    <tr>\n",
       "      <th>1</th>\n",
       "      <td>newegg.com</td>\n",
       "      <td>http://www.newegg.com/Product/Product.aspx?Ite...</td>\n",
       "      <td>SC-3211</td>\n",
       "      <td>newegg.com - supersonic 32inch 720p led hdtv s...</td>\n",
       "      <td>NaN</td>\n",
       "      <td>NaN</td>\n",
       "      <td>NaN</td>\n",
       "      <td>NaN</td>\n",
       "      <td>NaN</td>\n",
       "      <td>NaN</td>\n",
       "      <td>...</td>\n",
       "      <td>NaN</td>\n",
       "      <td>NaN</td>\n",
       "      <td>NaN</td>\n",
       "      <td>NaN</td>\n",
       "      <td>NaN</td>\n",
       "      <td>NaN</td>\n",
       "      <td>NaN</td>\n",
       "      <td>NaN</td>\n",
       "      <td>NaN</td>\n",
       "      <td>NaN</td>\n",
       "    </tr>\n",
       "    <tr>\n",
       "      <th>2</th>\n",
       "      <td>bestbuy.com</td>\n",
       "      <td>http://www.bestbuy.com/site/Sharp+-+AQUOS+-+90...</td>\n",
       "      <td>LC-90LE657U</td>\n",
       "      <td>sharp aquos 90inch class 90inch diag. led 1080...</td>\n",
       "      <td>90inch</td>\n",
       "      <td>0</td>\n",
       "      <td>no</td>\n",
       "      <td>yes</td>\n",
       "      <td>yes</td>\n",
       "      <td>80-7/8inch</td>\n",
       "      <td>...</td>\n",
       "      <td>NaN</td>\n",
       "      <td>NaN</td>\n",
       "      <td>NaN</td>\n",
       "      <td>NaN</td>\n",
       "      <td>NaN</td>\n",
       "      <td>NaN</td>\n",
       "      <td>NaN</td>\n",
       "      <td>NaN</td>\n",
       "      <td>NaN</td>\n",
       "      <td>NaN</td>\n",
       "    </tr>\n",
       "    <tr>\n",
       "      <th>3</th>\n",
       "      <td>bestbuy.com</td>\n",
       "      <td>http://www.bestbuy.com/site/Philips+-+2000+Ser...</td>\n",
       "      <td>39PFL2908/F7</td>\n",
       "      <td>philips 2000 series 39inch class 3858inch diag...</td>\n",
       "      <td>39inch</td>\n",
       "      <td>0</td>\n",
       "      <td>yes</td>\n",
       "      <td>yes</td>\n",
       "      <td>yes</td>\n",
       "      <td>35-9/10inch</td>\n",
       "      <td>...</td>\n",
       "      <td>NaN</td>\n",
       "      <td>NaN</td>\n",
       "      <td>NaN</td>\n",
       "      <td>NaN</td>\n",
       "      <td>NaN</td>\n",
       "      <td>NaN</td>\n",
       "      <td>NaN</td>\n",
       "      <td>NaN</td>\n",
       "      <td>NaN</td>\n",
       "      <td>NaN</td>\n",
       "    </tr>\n",
       "    <tr>\n",
       "      <th>4</th>\n",
       "      <td>newegg.com</td>\n",
       "      <td>http://www.newegg.com/Product/Product.aspx?Ite...</td>\n",
       "      <td>LC70LE550U</td>\n",
       "      <td>newegg.com - sharp aquos 70inch class (69.5inc...</td>\n",
       "      <td>NaN</td>\n",
       "      <td>NaN</td>\n",
       "      <td>NaN</td>\n",
       "      <td>NaN</td>\n",
       "      <td>NaN</td>\n",
       "      <td>NaN</td>\n",
       "      <td>...</td>\n",
       "      <td>NaN</td>\n",
       "      <td>NaN</td>\n",
       "      <td>NaN</td>\n",
       "      <td>NaN</td>\n",
       "      <td>NaN</td>\n",
       "      <td>NaN</td>\n",
       "      <td>NaN</td>\n",
       "      <td>NaN</td>\n",
       "      <td>NaN</td>\n",
       "      <td>NaN</td>\n",
       "    </tr>\n",
       "  </tbody>\n",
       "</table>\n",
       "<p>5 rows × 355 columns</p>\n",
       "</div>"
      ],
      "text/plain": [
       "          shop                                                url  \\\n",
       "0  bestbuy.com  http://www.bestbuy.com/site/Philips+-+4000+Ser...   \n",
       "1   newegg.com  http://www.newegg.com/Product/Product.aspx?Ite...   \n",
       "2  bestbuy.com  http://www.bestbuy.com/site/Sharp+-+AQUOS+-+90...   \n",
       "3  bestbuy.com  http://www.bestbuy.com/site/Philips+-+2000+Ser...   \n",
       "4   newegg.com  http://www.newegg.com/Product/Product.aspx?Ite...   \n",
       "\n",
       "        modelID                                              title  \\\n",
       "0  29PFL4508/F7  philips 4000 series 29inch class 2812inch diag...   \n",
       "1       SC-3211  newegg.com - supersonic 32inch 720p led hdtv s...   \n",
       "2   LC-90LE657U  sharp aquos 90inch class 90inch diag. led 1080...   \n",
       "3  39PFL2908/F7  philips 2000 series 39inch class 3858inch diag...   \n",
       "4    LC70LE550U  newegg.com - sharp aquos 70inch class (69.5inc...   \n",
       "\n",
       "  Screen Size Class DVI Inputs ENERGY STAR Certified Ethernet Port  \\\n",
       "0            29inch          0                   yes            no   \n",
       "1               NaN        NaN                   NaN           NaN   \n",
       "2            90inch          0                    no           yes   \n",
       "3            39inch          0                   yes           yes   \n",
       "4               NaN        NaN                   NaN           NaN   \n",
       "\n",
       "  Sleep Timer        Width  ... Interfaces/Ports: Motor: Capacity:  \\\n",
       "0         yes       27inch  ...               NaN    NaN       NaN   \n",
       "1         NaN          NaN  ...               NaN    NaN       NaN   \n",
       "2         yes   80-7/8inch  ...               NaN    NaN       NaN   \n",
       "3         yes  35-9/10inch  ...               NaN    NaN       NaN   \n",
       "4         NaN          NaN  ...               NaN    NaN       NaN   \n",
       "\n",
       "  Player Mechanism: Signal to Noise Ratio (SNR): Humidity Range Connectors  \\\n",
       "0               NaN                          NaN            NaN        NaN   \n",
       "1               NaN                          NaN            NaN        NaN   \n",
       "2               NaN                          NaN            NaN        NaN   \n",
       "3               NaN                          NaN            NaN        NaN   \n",
       "4               NaN                          NaN            NaN        NaN   \n",
       "\n",
       "  Diagonal Size Combo Player HDMI Connection  \n",
       "0           NaN          NaN             NaN  \n",
       "1           NaN          NaN             NaN  \n",
       "2           NaN          NaN             NaN  \n",
       "3           NaN          NaN             NaN  \n",
       "4           NaN          NaN             NaN  \n",
       "\n",
       "[5 rows x 355 columns]"
      ]
     },
     "execution_count": 89,
     "metadata": {},
     "output_type": "execute_result"
    }
   ],
   "source": [
    "df.head()"
   ]
  },
  {
   "cell_type": "markdown",
   "id": "b72c9b42",
   "metadata": {},
   "source": [
    "### Creating binary matrix"
   ]
  },
  {
   "cell_type": "code",
   "execution_count": 166,
   "id": "0dcd4418",
   "metadata": {},
   "outputs": [],
   "source": [
    "# Incorporating model words from attributes\n",
    "def concatenate_title_and_others(row):\n",
    "    # Start with the title\n",
    "    full_string = row['title']\n",
    "    # Loop through all columns starting from the 4th column\n",
    "    for item in row[4:]:\n",
    "        if pd.notnull(item) and isinstance(item, str):\n",
    "            full_string += ' ' + item\n",
    "    return full_string\n",
    "\n",
    "# Apply the function to each row\n",
    "df['big_title'] = df.apply(concatenate_title_and_others, axis=1)"
   ]
  },
  {
   "cell_type": "code",
   "execution_count": 231,
   "id": "450e0771",
   "metadata": {},
   "outputs": [
    {
     "name": "stdout",
     "output_type": "stream",
     "text": [
      "average number of model words per product: 3.9280\n",
      "total number of model words: 1196\n"
     ]
    }
   ],
   "source": [
    "def get_binary_matrix():\n",
    "    model_words = set()\n",
    "\n",
    "    for model_name in df.title:\n",
    "        model_words.update(get_model_words(model_name))\n",
    "\n",
    "    model_words = list(model_words)\n",
    "    \n",
    "    binary_matrix = np.zeros((len(model_words), len(df)))\n",
    "\n",
    "    for i, word in enumerate(model_words):\n",
    "        for j, title in enumerate(df.title):\n",
    "            binary_matrix[i,j] = int(\" \" + word in title)\n",
    "    return binary_matrix\n",
    "\n",
    "def get_big_binary_matrix():\n",
    "    model_words = set()\n",
    "    \n",
    "    for model_name in df.big_title:\n",
    "        model_words.update(get_model_words(model_name))\n",
    "        \n",
    "    model_words = list(model_words)\n",
    "    \n",
    "    binary_matrix = np.zeros((len(model_words), len(df)))\n",
    "    \n",
    "    for i, word in enumerate(model_words):\n",
    "        for j, title in enumerate(df.big_title):\n",
    "            binary_matrix[i,j] = int(\" \" + word in title)\n",
    "    return binary_matrix\n",
    "    \n",
    "\n",
    "binary_matrix = get_binary_matrix()\n",
    "big_binary_matrix = get_big_binary_matrix()\n",
    "        \n",
    "print(f\"average number of model words per product: {np.mean(sum(binary_matrix)):.4f}\")\n",
    "print(f\"total number of model words: {len(model_words)}\")"
   ]
  },
  {
   "cell_type": "code",
   "execution_count": 142,
   "id": "b00f094e",
   "metadata": {},
   "outputs": [
    {
     "name": "stdout",
     "output_type": "stream",
     "text": [
      "3\n"
     ]
    }
   ],
   "source": [
    "# number of products with 0 model words in their title\n",
    "print(sum([sum(col) == 0 for col in binary_matrix.T]))"
   ]
  },
  {
   "cell_type": "code",
   "execution_count": 143,
   "id": "1569fb71",
   "metadata": {},
   "outputs": [
    {
     "name": "stdout",
     "output_type": "stream",
     "text": [
      "(1196, 1624)\n",
      "1196 model words (rows)\n",
      "1624 products (columns)\n"
     ]
    }
   ],
   "source": [
    "print(binary_matrix.shape)\n",
    "print(f\"{binary_matrix.shape[0]} model words (rows)\\n{binary_matrix.shape[1]} products (columns)\")"
   ]
  },
  {
   "cell_type": "markdown",
   "id": "d0374ae3",
   "metadata": {},
   "source": [
    "### Creating signature matrix"
   ]
  },
  {
   "cell_type": "code",
   "execution_count": 144,
   "id": "16e08e3e",
   "metadata": {},
   "outputs": [],
   "source": [
    "from random import randint\n",
    "import sympy\n",
    "def minhash(input_matrix, num_permutations, seeds = None):\n",
    "    num_rows = len(input_matrix)\n",
    "    num_columns = len(input_matrix[0])\n",
    "    signature_matrix = np.zeros((num_permutations, num_columns))\n",
    "    for i in range(num_permutations):\n",
    "        if seeds is not None:\n",
    "            rng = np.random.default_rng(seeds[i])\n",
    "        else:\n",
    "            rng = np.random.default_rng()\n",
    "        perm = rng.permutation(num_rows)\n",
    "        for k in range(num_columns):\n",
    "            j = 0\n",
    "            while not input_matrix[perm[j], k]:\n",
    "                j += 1\n",
    "                if j == len(input_matrix):\n",
    "                    break\n",
    "            signature_matrix[i, k] = j\n",
    "    return signature_matrix\n",
    "\n",
    "def fast_minhash(input_matrix, num_hash_functions):\n",
    "    N = num_hash_functions\n",
    "    cols = input_matrix.shape[1]\n",
    "    max_val = (2**32)-1\n",
    "    perms = [ (randint(0,max_val), randint(0,max_val)) for _ in range(N)]\n",
    "    prime = sympy.nextprime(input_matrix.shape[0] + 1)\n",
    "    hash_functions = [lambda x: (x * perms[i][0] + perms[i][1]) % prime for i in range(N)]\n",
    "    \n",
    "    # Initializing signature matrix (-1 represents infinity)\n",
    "    M = np.full((N, cols), prime + 1)\n",
    "    \n",
    "    for r in range(input_matrix.shape[0]):\n",
    "        hashes = []\n",
    "        for perm in perms:\n",
    "            h = (perm[0] * r + perm[1]) % prime\n",
    "            hashes.append(h)\n",
    "        for c in range(cols):\n",
    "            if input_matrix[r, c] == 1:\n",
    "                for i in range(N):\n",
    "                    if hashes[i] < M[i, c]:\n",
    "                        M[i, c] = hashes[i]    \n",
    "    return M"
   ]
  },
  {
   "cell_type": "code",
   "execution_count": 416,
   "id": "bcb1d674",
   "metadata": {},
   "outputs": [
    {
     "name": "stdout",
     "output_type": "stream",
     "text": [
      "Wall time: 2.72 s\n"
     ]
    }
   ],
   "source": [
    "%%time\n",
    "# Number of hashes\n",
    "n = 720\n",
    "signature_matrix = fast_minhash(binary_matrix, n)"
   ]
  },
  {
   "cell_type": "code",
   "execution_count": 417,
   "id": "60be08f1",
   "metadata": {},
   "outputs": [
    {
     "data": {
      "text/plain": [
       "(720, 1624)"
      ]
     },
     "execution_count": 417,
     "metadata": {},
     "output_type": "execute_result"
    }
   ],
   "source": [
    "signature_matrix.shape"
   ]
  },
  {
   "cell_type": "markdown",
   "id": "3a700812",
   "metadata": {},
   "source": [
    "### LSH"
   ]
  },
  {
   "cell_type": "code",
   "execution_count": 438,
   "id": "b1046ced",
   "metadata": {},
   "outputs": [],
   "source": [
    "from itertools import combinations\n",
    "\n",
    "def LSH(signature_matrix, b):\n",
    "    r = n / b\n",
    "    \n",
    "    buckets = dict()\n",
    "    \n",
    "    for k in range(b):\n",
    "        for j in range(signature_matrix.shape[1]):\n",
    "            band = signature_matrix[int(k * r) :int((k+1) * r), j].astype(int)\n",
    "            h = int(''.join(map(str, band)))\n",
    "            if h in buckets:\n",
    "                buckets[h].add(j)\n",
    "            else:\n",
    "                buckets[h] = set([j])\n",
    "\n",
    "    return buckets\n",
    "\n",
    "def get_candidate_pairs(sets_list):\n",
    "    integer_pairs = set()\n",
    "    \n",
    "    for s in sets_list:\n",
    "        for pair in combinations(s, 2):\n",
    "            integer_pairs.add(tuple(sorted(pair)))\n",
    "    \n",
    "    return np.array(list(integer_pairs))"
   ]
  },
  {
   "cell_type": "code",
   "execution_count": 439,
   "id": "8952c852",
   "metadata": {},
   "outputs": [],
   "source": [
    "buckets = LSH(signature_matrix, b = 40)\n",
    "\n",
    "candidate_pairs = get_candidate_pairs(buckets.values())"
   ]
  },
  {
   "cell_type": "markdown",
   "id": "3d532e6f",
   "metadata": {},
   "source": [
    "### Evaluating some shit"
   ]
  },
  {
   "cell_type": "code",
   "execution_count": 455,
   "id": "a82ae4ca",
   "metadata": {},
   "outputs": [],
   "source": [
    "import statistics\n",
    "\n",
    "def get_f1_star(candidate_pairs, predictions, modelIDS, num_true_dup_pairs):\n",
    "    correct = 0\n",
    "    for i, j in predictions:\n",
    "        correct += modelIDS[i] == modelIDS[j]\n",
    "    pair_quality = correct/len(candidate_pairs)\n",
    "    pair_completeness = correct/num_true_dup_pairs\n",
    "    f1_star = statistics.harmonic_mean([pair_quality, pair_completeness])\n",
    "    return f1_star, pair_quality, pair_completeness\n",
    "\n",
    "def get_f1(predictions, modelIDS, num_products, num_true_dup_pairs):\n",
    "    TP = sum([modelIDS[i] == modelIDS[j] for i, j in predictions])\n",
    "    FP = len(predictions) - TP\n",
    "    FN = num_true_dup_pairs - TP\n",
    "    TN = (num_products * (num_products - 1) / 2) - TP - FP - FN\n",
    "    \n",
    "    precision = TP / (TP + FP)\n",
    "    recall = TP / (TP + FN)\n",
    "    \n",
    "    f1 = 2 / ((1 / precision) + (1 / recall))\n",
    "    \n",
    "    return f1, precision, recall"
   ]
  },
  {
   "cell_type": "code",
   "execution_count": 441,
   "id": "522d9c25",
   "metadata": {},
   "outputs": [
    {
     "name": "stdout",
     "output_type": "stream",
     "text": [
      "checked 2938 pairs\n",
      "160\n",
      "ratio: 5.4459%\n"
     ]
    }
   ],
   "source": [
    "n_true = 0\n",
    "n_false = 0\n",
    "\n",
    "dups = set()\n",
    "\n",
    "modelIDS = df.modelID\n",
    "\n",
    "for (i, j) in candidate_pairs:\n",
    "    if modelIDS[i] == modelIDS[j]:\n",
    "        dups.add((i,j))\n",
    "        n_true += 1\n",
    "    else:\n",
    "        n_false += 1\n",
    "\n",
    "print(f\"checked {len(candidate_pairs)} pairs\")\n",
    "print(len(dups))\n",
    "print(f'ratio: {len(dups)/len(candidate_pairs):.4%}')"
   ]
  },
  {
   "cell_type": "code",
   "execution_count": 442,
   "id": "da60e8c0",
   "metadata": {},
   "outputs": [],
   "source": [
    "# getting common TV brands\n",
    "\n",
    "f = 'brand_names.txt'\n",
    "\n",
    "with open(f) as file:\n",
    "    brands = file.read()\n",
    "    \n",
    "brands_list = [\" \".join(brand.split()[1:]).lower() for brand in brands.splitlines()]"
   ]
  },
  {
   "cell_type": "code",
   "execution_count": 443,
   "id": "bddfe513",
   "metadata": {},
   "outputs": [],
   "source": [
    "from fuzzywuzzy import fuzz\n",
    "from scipy.cluster.hierarchy import linkage, fcluster\n",
    "from scipy.spatial.distance import squareform\n",
    "\n",
    "tv_brand_names = set(['philips', 'panasonic', 'sharp', 'samsung', 'sony', 'lg', ''])\n",
    "\n",
    "# candidates for clustering\n",
    "candidates = set()\n",
    "for i, j in candidate_pairs:\n",
    "    candidates.add(i)\n",
    "    candidates.add(j)\n",
    "\n",
    "candidates = np.array(list(candidates))\n",
    "\n",
    "indices = dict()\n",
    "for i in range(len(candidates)):\n",
    "    indices[candidates[i]] = i\n",
    "\n",
    "def get_predictions(similarity_function, threshold):\n",
    "    scores = np.array([])\n",
    "    for (i, j) in candidate_pairs:\n",
    "        scores = np.append(scores, similarity_function(i, j))\n",
    "    return candidate_pairs[scores>threshold]\n",
    "\n",
    "def fuzz_similarity(i, j):\n",
    "    if not is_same_brand(i, j):\n",
    "        return 0\n",
    "    return fuzz.token_set_ratio(df.title[i], df.title[j])\n",
    "\n",
    "def get_brand(i):\n",
    "    for word in df.title[i].split(\" \"):\n",
    "        if word in brands_list:\n",
    "            return word\n",
    "    return None\n",
    "\n",
    "# returns False only if both titles contain a brand, and they are not the same\n",
    "def is_same_brand(i, j):\n",
    "    brand_i, brand_j = get_brand(i), get_brand(j)\n",
    "    if brand_i is not None and brand_j is not None and brand_i != brand_j:\n",
    "        return False\n",
    "    return True\n",
    "\n",
    "def binary_jacc_similarity(vec1, vec2):\n",
    "    intersection = 0\n",
    "    union = 0 \n",
    "    for a, b in zip(vec1, vec2):\n",
    "        if a == 1 and b == 1:\n",
    "            intersection += 1\n",
    "            union += 1\n",
    "        elif a == 1 or b == 1:\n",
    "            union += 1\n",
    "    if union == 0:\n",
    "        return 0\n",
    "    return intersection/union\n",
    "\n",
    "def jacc_similarity(i, j):\n",
    "    if not is_same_brand(i, j):\n",
    "        return 0\n",
    "    return binary_jacc_similarity(binary_matrix[:,i], binary_matrix[:,j])\n",
    "\n",
    "def get_dbscan_predictions(eps, metric):\n",
    "    products = binary_matrix.T[candidates]\n",
    "\n",
    "    # DBSCAN clustering\n",
    "    dbscan = DBSCAN(eps=eps, min_samples=2, metric=metric)\n",
    "    clusters = dbscan.fit_predict(products)\n",
    "    \n",
    "    clusters_dict = dict()\n",
    "\n",
    "    for i, cluster in enumerate(clusters):\n",
    "        if cluster in clusters_dict:\n",
    "            clusters_dict[cluster].append(i)\n",
    "        else:\n",
    "            clusters_dict[cluster] = [i]\n",
    "            \n",
    "    predictions = np.array([])\n",
    "    for cluster in clusters_dict:\n",
    "        if not cluster == -1:\n",
    "            for pair in combinations(clusters_dict[cluster], 2):\n",
    "                predictions = np.append(predictions, tuple(pair))\n",
    "                \n",
    "    return predictions\n",
    "\n",
    "def get_distance_matrix(candidate_pairs):\n",
    "    # Number of products (assuming product IDs go from 1 to the max product ID)\n",
    "    num_products = len(candidates)\n",
    "\n",
    "    # Initialize the distance matrix with infinities\n",
    "    distance_matrix = np.full((num_products, num_products), np.inf)\n",
    "\n",
    "    # Populate the distance matrix with Jaccard distances for candidate pairs\n",
    "    for i, j in candidate_pairs:\n",
    "        distance = 1 - jacc_similarity(i, j)\n",
    "        # Subtract 1 from indices because product IDs start at 1, not 0\n",
    "        distance_matrix[indices[i], indices[j]] = distance\n",
    "        distance_matrix[indices[j], indices[i]] = distance  # Mirror the distance since the matrix is symmetric\n",
    "\n",
    "    # and infinity for all non-candidate pairs\n",
    "    return distance_matrix\n",
    "\n",
    "def get_cluster_predictions(max_d, distance_matrix):\n",
    "    # We'll use the distance_matrix from the previous example.\n",
    "\n",
    "    # Convert the distance matrix to a condensed distance matrix\n",
    "    # that linkage function can work with. \n",
    "    # We use squareform to convert the redundant n x n matrix format into a condensed format.\n",
    "    condensed_distance_matrix = squareform(distance_matrix)\n",
    "\n",
    "    # Perform the hierarchical clustering using linkage\n",
    "    # 'single' linkage ensures that the distance between clusters is the minimum distance between their respective members\n",
    "    Z = linkage(condensed_distance_matrix, method='single')\n",
    "\n",
    "    # Decide the number of clusters by setting a threshold, or use another criterion to determine the clusters\n",
    "    # For instance, you can use the max_d parameter to define the maximum distance between clusters\n",
    "    # We'll set a threshold such that distances greater than the threshold are not merged\n",
    "    clusters = fcluster(Z, max_d, criterion='distance')\n",
    "\n",
    "    clusters_dict = dict()\n",
    "\n",
    "    for i, cluster in enumerate(clusters):\n",
    "        if cluster in clusters_dict:\n",
    "            clusters_dict[cluster].append(candidates[i])\n",
    "        else:\n",
    "            clusters_dict[cluster] = [candidates[i]]\n",
    "\n",
    "    predictions = []\n",
    "    for cluster in clusters_dict:\n",
    "        if not cluster == -1:\n",
    "            for pair in combinations(clusters_dict[cluster], 2):\n",
    "                predictions.append(tuple(pair))\n",
    "    return predictions"
   ]
  },
  {
   "cell_type": "code",
   "execution_count": 444,
   "id": "6d0a3f1e",
   "metadata": {},
   "outputs": [
    {
     "name": "stdout",
     "output_type": "stream",
     "text": [
      "F1-star: 9.4096%\n",
      "F1: 12.6257%\n"
     ]
    }
   ],
   "source": [
    "# FUZZY predictions\n",
    "threshold = 65\n",
    "fuzzy_predictions = get_predictions(fuzz_similarity, threshold)\n",
    "\n",
    "print(f\"F1-star: {f1_star(candidate_pairs, fuzzy_predictions, df.modelID, 399):.4%}\")\n",
    "print(f\"F1: {f1(fuzzy_predictions, df.modelID, len(df), 399):.4%}\")"
   ]
  },
  {
   "cell_type": "code",
   "execution_count": 445,
   "id": "2f5df2a0",
   "metadata": {},
   "outputs": [
    {
     "name": "stdout",
     "output_type": "stream",
     "text": [
      "F1-star: 9.5895%\n",
      "F1: 11.6746%\n"
     ]
    }
   ],
   "source": [
    "# jaccard predictions\n",
    "threshold = 0.5\n",
    "predictions = get_predictions(jacc_similarity, threshold)\n",
    "\n",
    "print(f\"F1-star: {f1_star(candidate_pairs, predictions, df.modelID, 399):.4%}\")\n",
    "print(f\"F1: {f1(predictions, df.modelID, len(df), 399):.4%}\")"
   ]
  },
  {
   "cell_type": "code",
   "execution_count": 446,
   "id": "5d90d4c0",
   "metadata": {},
   "outputs": [],
   "source": [
    "large_number = 1e9\n",
    "distance_matrix = get_distance_matrix(candidate_pairs)\n",
    "np.fill_diagonal(distance_matrix, 0)\n",
    "distance_matrix[distance_matrix == np.inf] = large_number"
   ]
  },
  {
   "cell_type": "code",
   "execution_count": 451,
   "id": "ebbbde3d",
   "metadata": {},
   "outputs": [
    {
     "name": "stdout",
     "output_type": "stream",
     "text": [
      "F1-star: 9.8891%\n",
      "F1: 7.1630%\n"
     ]
    }
   ],
   "source": [
    "# dbscan predictions\n",
    "max_d = 0.5\n",
    "\n",
    "predictions = get_cluster_predictions(max_d, distance_matrix)\n",
    "print(f\"F1-star: {f1_star(candidate_pairs, predictions, df.modelID, 399)[0]:.4%}\")\n",
    "print(f\"F1: {f1(predictions, df.modelID, len(df), 399)[0]:.4%}\")"
   ]
  },
  {
   "cell_type": "code",
   "execution_count": 459,
   "id": "9fc9b559",
   "metadata": {},
   "outputs": [
    {
     "data": {
      "text/plain": [
       "1319500.0"
      ]
     },
     "execution_count": 459,
     "metadata": {},
     "output_type": "execute_result"
    }
   ],
   "source": []
  },
  {
   "cell_type": "code",
   "execution_count": 466,
   "id": "9fc30efc",
   "metadata": {},
   "outputs": [],
   "source": [
    "def DO_EVERYTHING(b, threshold):\n",
    "    buckets = LSH(signature_matrix, b = b)\n",
    "    candidate_pairs = get_candidate_pairs(buckets.values())\n",
    "    predictions = get_predictions(fuzz_similarity, threshold)\n",
    "    \n",
    "    f1_star, pair_quality, pair_completeness = get_f1_star(candidate_pairs, predictions, df.modelID, 399)\n",
    "    f1, precision, recall = get_f1(predictions, df.modelID, len(df), 399)\n",
    "    \n",
    "    total_pairs = (len(df) * (len(df) + 1))/2\n",
    "    frac_comparisons = len(candidate_pairs) / total_pairs\n",
    "    \n",
    "    return frac_comparisons, f1_star, pair_quality, pair_completeness, f1, precision, recall"
   ]
  },
  {
   "cell_type": "code",
   "execution_count": 480,
   "id": "076ce2bf",
   "metadata": {},
   "outputs": [
    {
     "data": {
      "text/plain": [
       "(0.0022266009852216747,\n",
       " 0.09409649385675757,\n",
       " 0.05343771272974813,\n",
       " 0.39348370927318294,\n",
       " 0.12625653397667871,\n",
       " 0.07519157088122605,\n",
       " 0.39348370927318294)"
      ]
     },
     "execution_count": 480,
     "metadata": {},
     "output_type": "execute_result"
    }
   ],
   "source": [
    "DO_EVERYTHING(, 65)"
   ]
  },
  {
   "cell_type": "code",
   "execution_count": 481,
   "id": "b2daf06e",
   "metadata": {},
   "outputs": [
    {
     "data": {
      "text/plain": [
       "(0.0010253884046987495,\n",
       " 0.17922374429223745,\n",
       " 0.11603843311160385,\n",
       " 0.39348370927318294,\n",
       " 0.12625653397667871,\n",
       " 0.07519157088122605,\n",
       " 0.39348370927318294)"
      ]
     },
     "execution_count": 481,
     "metadata": {},
     "output_type": "execute_result"
    }
   ],
   "source": [
    "DO_EVERYTHING(20, 65)"
   ]
  },
  {
   "cell_type": "markdown",
   "id": "e34d3b45",
   "metadata": {},
   "source": [
    "## FINAL EVALUATION"
   ]
  },
  {
   "cell_type": "code",
   "execution_count": 467,
   "id": "25c303a3",
   "metadata": {},
   "outputs": [
    {
     "name": "stdout",
     "output_type": "stream",
     "text": [
      "1\n",
      "2\n",
      "3\n",
      "4\n",
      "5\n",
      "6\n",
      "8\n",
      "9\n",
      "10\n",
      "12\n",
      "15\n",
      "16\n",
      "18\n",
      "20\n",
      "24\n",
      "30\n",
      "36\n",
      "40\n",
      "45\n",
      "48\n",
      "60\n",
      "72\n",
      "80\n",
      "90\n",
      "120\n",
      "144\n",
      "180\n",
      "240\n",
      "360\n",
      "720\n"
     ]
    }
   ],
   "source": [
    "factors_list = []\n",
    "# Loop through all possible factors from 1 to n\n",
    "for i in range(1, n + 1):\n",
    "    # If the number is a factor, add it to the list\n",
    "    if n % i == 0:\n",
    "        factors_list.append(i)\n",
    "\n",
    "x = []\n",
    "y = []\n",
    "\n",
    "for b in factors_list:\n",
    "    print(b)\n",
    "    frac_comparisons, f1_star, pair_quality, pair_completeness, f1, precision, recall = DO_EVERYTHING(b, 65)\n",
    "    x.append(frac_comparisons)\n",
    "    y.append((f1_star, pair_quality, pair_completeness, f1, precision, recall))"
   ]
  },
  {
   "cell_type": "code",
   "execution_count": 474,
   "id": "d917074d",
   "metadata": {},
   "outputs": [],
   "source": [
    "y = np.array(y)"
   ]
  },
  {
   "cell_type": "code",
   "execution_count": 475,
   "id": "1a8e2dd4",
   "metadata": {},
   "outputs": [
    {
     "data": {
      "image/png": "[encoded data removed]",
      "text/plain": [
       "<Figure size 1080x720 with 6 Axes>"
      ]
     },
     "metadata": {
      "needs_background": "light"
     },
     "output_type": "display_data"
    }
   ],
   "source": [
    "import matplotlib.pyplot as plt\n",
    "# Now let's create six line plots\n",
    "performance_measures = ['F1*', 'Pair Quality', 'Pair Completeness', 'F1', 'Precision', 'Recall']\n",
    "plt.figure(figsize=(15, 10))\n",
    "\n",
    "# Plot each performance measure\n",
    "for i in range(6):\n",
    "    plt.subplot(2, 3, i+1)\n",
    "    plt.plot(x, y[:,i], label=performance_measures[i], marker='o')\n",
    "    plt.xlabel('Fraction of Comparisons')\n",
    "    plt.ylabel(performance_measures[i])\n",
    "    plt.title(f'Line Plot of {performance_measures[i]} vs Fraction of Comparisons')\n",
    "    plt.legend()\n",
    "    \n",
    "plt.tight_layout()\n",
    "plt.show()"
   ]
  },
  {
   "cell_type": "code",
   "execution_count": null,
   "id": "66b9ce9c",
   "metadata": {},
   "outputs": [],
   "source": []
  },
  {
   "cell_type": "code",
   "execution_count": 479,
   "id": "1e0a9f30",
   "metadata": {},
   "outputs": [
    {
     "data": {
      "text/plain": [
       "array([0.39348371, 0.39348371, 0.39348371, 0.39348371, 0.39348371,\n",
       "       0.39348371, 0.39348371, 0.39348371, 0.39348371, 0.39348371,\n",
       "       0.39348371, 0.39348371, 0.39348371, 0.39348371, 0.39348371,\n",
       "       0.39348371, 0.39348371, 0.39348371, 0.39348371, 0.39348371,\n",
       "       0.39348371, 0.39348371, 0.39348371, 0.39348371, 0.39348371,\n",
       "       0.39348371, 0.39348371, 0.39348371, 0.39348371, 0.39348371])"
      ]
     },
     "execution_count": 479,
     "metadata": {},
     "output_type": "execute_result"
    }
   ],
   "source": [
    "y[:,2]"
   ]
  }
 ],
 "metadata": {
  "kernelspec": {
   "display_name": "Python 3 (ipykernel)",
   "language": "python",
   "name": "python3"
  },
  "language_info": {
   "codemirror_mode": {
    "name": "ipython",
    "version": 3
   },
   "file_extension": ".py",
   "mimetype": "text/x-python",
   "name": "python",
   "nbconvert_exporter": "python",
   "pygments_lexer": "ipython3",
   "version": "3.8.5"
  }
 },
 "nbformat": 4,
 "nbformat_minor": 5
}
